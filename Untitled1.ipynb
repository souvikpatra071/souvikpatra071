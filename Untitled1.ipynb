{
 "cells": [
  {
   "cell_type": "code",
   "execution_count": 1,
   "id": "cab8798a",
   "metadata": {},
   "outputs": [],
   "source": [
    "import pandas as pd"
   ]
  },
  {
   "cell_type": "code",
   "execution_count": 4,
   "id": "cd30ce41",
   "metadata": {},
   "outputs": [],
   "source": [
    "data=pd.read_csv(\"gopi_basicdata.csv\")"
   ]
  },
  {
   "cell_type": "code",
   "execution_count": 5,
   "id": "2be9142e",
   "metadata": {},
   "outputs": [
    {
     "data": {
      "text/html": [
       "<div>\n",
       "<style scoped>\n",
       "    .dataframe tbody tr th:only-of-type {\n",
       "        vertical-align: middle;\n",
       "    }\n",
       "\n",
       "    .dataframe tbody tr th {\n",
       "        vertical-align: top;\n",
       "    }\n",
       "\n",
       "    .dataframe thead th {\n",
       "        text-align: right;\n",
       "    }\n",
       "</style>\n",
       "<table border=\"1\" class=\"dataframe\">\n",
       "  <thead>\n",
       "    <tr style=\"text-align: right;\">\n",
       "      <th></th>\n",
       "      <th>Unnamed: 0</th>\n",
       "      <th>Account_Name</th>\n",
       "      <th>Account_URL</th>\n",
       "      <th>Headline</th>\n",
       "      <th>Type</th>\n",
       "      <th>DateCreated</th>\n",
       "      <th>DateModified</th>\n",
       "      <th>Comments_Count</th>\n",
       "      <th>Likes_Count</th>\n",
       "      <th>Followers</th>\n",
       "      <th>views</th>\n",
       "    </tr>\n",
       "  </thead>\n",
       "  <tbody>\n",
       "    <tr>\n",
       "      <th>0</th>\n",
       "      <td>0</td>\n",
       "      <td>Gopinath Videos</td>\n",
       "      <td>https://www.facebook.com/Gopinathvideos/</td>\n",
       "      <td>Gopinath Videos - தெரு தெருவா துணி வித்துருக்க...</td>\n",
       "      <td>SocialMediaPosting</td>\n",
       "      <td>2020-08-12T11:00:30-0700</td>\n",
       "      <td>2021-11-10T07:48:25-0800</td>\n",
       "      <td>52</td>\n",
       "      <td>9176</td>\n",
       "      <td>26428</td>\n",
       "      <td>196000</td>\n",
       "    </tr>\n",
       "    <tr>\n",
       "      <th>1</th>\n",
       "      <td>1</td>\n",
       "      <td>Gopinath Videos</td>\n",
       "      <td>https://www.facebook.com/Gopinathvideos/</td>\n",
       "      <td>Gopinath Videos - தனக்கு வேண்டியதை பெற அடம்பிட...</td>\n",
       "      <td>SocialMediaPosting</td>\n",
       "      <td>2020-08-10T20:59:03-0700</td>\n",
       "      <td>2021-11-25T06:55:57-0800</td>\n",
       "      <td>290</td>\n",
       "      <td>23901</td>\n",
       "      <td>26428</td>\n",
       "      <td>649000</td>\n",
       "    </tr>\n",
       "    <tr>\n",
       "      <th>2</th>\n",
       "      <td>2</td>\n",
       "      <td>Kids Network Tv</td>\n",
       "      <td>https://www.facebook.com/KidsNetworkTvTamil/</td>\n",
       "      <td>Kids Network Tv - ஒரு ஆண் கஷ்டப்பட்டு உருவாக்க...</td>\n",
       "      <td>SocialMediaPosting</td>\n",
       "      <td>2020-06-21T08:30:00-0700</td>\n",
       "      <td>2022-05-05T10:40:23-0700</td>\n",
       "      <td>213</td>\n",
       "      <td>19434</td>\n",
       "      <td>185847</td>\n",
       "      <td>586000</td>\n",
       "    </tr>\n",
       "    <tr>\n",
       "      <th>3</th>\n",
       "      <td>3</td>\n",
       "      <td>Kids Network Tv</td>\n",
       "      <td>https://www.facebook.com/KidsNetworkTvTamil/</td>\n",
       "      <td>Kids Network Tv - கல்யாணத்துக்கு முன்னாடி கடலப...</td>\n",
       "      <td>SocialMediaPosting</td>\n",
       "      <td>2020-06-15T08:30:00-0700</td>\n",
       "      <td>2022-01-01T07:28:40-0800</td>\n",
       "      <td>430</td>\n",
       "      <td>48970</td>\n",
       "      <td>185847</td>\n",
       "      <td>1090000</td>\n",
       "    </tr>\n",
       "    <tr>\n",
       "      <th>4</th>\n",
       "      <td>4</td>\n",
       "      <td>Blogzo</td>\n",
       "      <td>https://www.facebook.com/BlogzoOfficial/</td>\n",
       "      <td>Blogzo - இந்த காலத்து பெண்களுக்கு Casual தமிழ்...</td>\n",
       "      <td>SocialMediaPosting</td>\n",
       "      <td>2019-11-06T21:53:38-0800</td>\n",
       "      <td>2022-05-18T07:42:17-0700</td>\n",
       "      <td>209</td>\n",
       "      <td>19390</td>\n",
       "      <td>62699</td>\n",
       "      <td>854000</td>\n",
       "    </tr>\n",
       "    <tr>\n",
       "      <th>5</th>\n",
       "      <td>5</td>\n",
       "      <td>Gopinath Videos</td>\n",
       "      <td>https://www.facebook.com/Gopinathvideos/</td>\n",
       "      <td>Gopinath Videos - என் தந்தை தான் எனக்கு ஹீரோ! ...</td>\n",
       "      <td>SocialMediaPosting</td>\n",
       "      <td>2020-08-06T04:00:01-0700</td>\n",
       "      <td>2021-11-13T07:10:30-0800</td>\n",
       "      <td>19</td>\n",
       "      <td>1482</td>\n",
       "      <td>26428</td>\n",
       "      <td>68000</td>\n",
       "    </tr>\n",
       "    <tr>\n",
       "      <th>6</th>\n",
       "      <td>6</td>\n",
       "      <td>Blogzo</td>\n",
       "      <td>https://www.facebook.com/BlogzoOfficial/</td>\n",
       "      <td>Blogzo - வாழ்க்கையில் துணிச்சல் மட்டும்தான் மு...</td>\n",
       "      <td>SocialMediaPosting</td>\n",
       "      <td>2020-01-29T00:41:04-0800</td>\n",
       "      <td>2022-04-19T15:34:09-0700</td>\n",
       "      <td>179</td>\n",
       "      <td>20213</td>\n",
       "      <td>62699</td>\n",
       "      <td>654000</td>\n",
       "    </tr>\n",
       "    <tr>\n",
       "      <th>7</th>\n",
       "      <td>7</td>\n",
       "      <td>Gopinath Videos</td>\n",
       "      <td>https://www.facebook.com/Gopinathvideos/</td>\n",
       "      <td>Gopinath Videos - வாழ்க்கை தான் வாழ கற்றுக் கொ...</td>\n",
       "      <td>SocialMediaPosting</td>\n",
       "      <td>2020-08-17T10:08:21-0700</td>\n",
       "      <td>2021-11-17T05:50:41-0800</td>\n",
       "      <td>17</td>\n",
       "      <td>1313</td>\n",
       "      <td>26428</td>\n",
       "      <td>29000</td>\n",
       "    </tr>\n",
       "  </tbody>\n",
       "</table>\n",
       "</div>"
      ],
      "text/plain": [
       "   Unnamed: 0     Account_Name                                   Account_URL  \\\n",
       "0           0  Gopinath Videos      https://www.facebook.com/Gopinathvideos/   \n",
       "1           1  Gopinath Videos      https://www.facebook.com/Gopinathvideos/   \n",
       "2           2  Kids Network Tv  https://www.facebook.com/KidsNetworkTvTamil/   \n",
       "3           3  Kids Network Tv  https://www.facebook.com/KidsNetworkTvTamil/   \n",
       "4           4           Blogzo      https://www.facebook.com/BlogzoOfficial/   \n",
       "5           5  Gopinath Videos      https://www.facebook.com/Gopinathvideos/   \n",
       "6           6           Blogzo      https://www.facebook.com/BlogzoOfficial/   \n",
       "7           7  Gopinath Videos      https://www.facebook.com/Gopinathvideos/   \n",
       "\n",
       "                                            Headline                Type  \\\n",
       "0  Gopinath Videos - தெரு தெருவா துணி வித்துருக்க...  SocialMediaPosting   \n",
       "1  Gopinath Videos - தனக்கு வேண்டியதை பெற அடம்பிட...  SocialMediaPosting   \n",
       "2  Kids Network Tv - ஒரு ஆண் கஷ்டப்பட்டு உருவாக்க...  SocialMediaPosting   \n",
       "3  Kids Network Tv - கல்யாணத்துக்கு முன்னாடி கடலப...  SocialMediaPosting   \n",
       "4  Blogzo - இந்த காலத்து பெண்களுக்கு Casual தமிழ்...  SocialMediaPosting   \n",
       "5  Gopinath Videos - என் தந்தை தான் எனக்கு ஹீரோ! ...  SocialMediaPosting   \n",
       "6  Blogzo - வாழ்க்கையில் துணிச்சல் மட்டும்தான் மு...  SocialMediaPosting   \n",
       "7  Gopinath Videos - வாழ்க்கை தான் வாழ கற்றுக் கொ...  SocialMediaPosting   \n",
       "\n",
       "                DateCreated              DateModified  Comments_Count  \\\n",
       "0  2020-08-12T11:00:30-0700  2021-11-10T07:48:25-0800              52   \n",
       "1  2020-08-10T20:59:03-0700  2021-11-25T06:55:57-0800             290   \n",
       "2  2020-06-21T08:30:00-0700  2022-05-05T10:40:23-0700             213   \n",
       "3  2020-06-15T08:30:00-0700  2022-01-01T07:28:40-0800             430   \n",
       "4  2019-11-06T21:53:38-0800  2022-05-18T07:42:17-0700             209   \n",
       "5  2020-08-06T04:00:01-0700  2021-11-13T07:10:30-0800              19   \n",
       "6  2020-01-29T00:41:04-0800  2022-04-19T15:34:09-0700             179   \n",
       "7  2020-08-17T10:08:21-0700  2021-11-17T05:50:41-0800              17   \n",
       "\n",
       "   Likes_Count  Followers    views  \n",
       "0         9176      26428   196000  \n",
       "1        23901      26428   649000  \n",
       "2        19434     185847   586000  \n",
       "3        48970     185847  1090000  \n",
       "4        19390      62699   854000  \n",
       "5         1482      26428    68000  \n",
       "6        20213      62699   654000  \n",
       "7         1313      26428    29000  "
      ]
     },
     "execution_count": 5,
     "metadata": {},
     "output_type": "execute_result"
    }
   ],
   "source": [
    "data"
   ]
  },
  {
   "cell_type": "code",
   "execution_count": 12,
   "id": "0653e649",
   "metadata": {},
   "outputs": [
    {
     "name": "stdout",
     "output_type": "stream",
     "text": [
      "4126000\n"
     ]
    }
   ],
   "source": [
    "views_count=sum(data['views'])\n",
    "print(views_count)"
   ]
  },
  {
   "cell_type": "code",
   "execution_count": 13,
   "id": "6c8b5b17",
   "metadata": {},
   "outputs": [
    {
     "name": "stdout",
     "output_type": "stream",
     "text": [
      "143879\n"
     ]
    }
   ],
   "source": [
    "likes_count=sum(data['Likes_Count'])\n",
    "print(likes_count)"
   ]
  },
  {
   "cell_type": "markdown",
   "id": "26c87e54",
   "metadata": {},
   "source": [
    "# likes_percentage"
   ]
  },
  {
   "cell_type": "code",
   "execution_count": 15,
   "id": "b49f08dc",
   "metadata": {},
   "outputs": [
    {
     "data": {
      "text/plain": [
       "3.4871303926320896"
      ]
     },
     "execution_count": 15,
     "metadata": {},
     "output_type": "execute_result"
    }
   ],
   "source": [
    "percentage_like=(likes_count/views_count)*100"
   ]
  },
  {
   "cell_type": "code",
   "execution_count": 23,
   "id": "3c82cada",
   "metadata": {},
   "outputs": [
    {
     "data": {
      "image/png": "[encoded data removed]",
      "text/plain": [
       "<Figure size 720x360 with 1 Axes>"
      ]
     },
     "metadata": {
      "needs_background": "light"
     },
     "output_type": "display_data"
    }
   ],
   "source": [
    "import numpy as np\n",
    "import matplotlib.pyplot as plt\n",
    " \n",
    "  \n",
    "# creating the dataset\n",
    "data = {'views_count':4126000, 'likes_count':143879, 'percentage_like':3.4871303926320896,\n",
    "        }\n",
    "courses = list(data.keys())\n",
    "values = list(data.values())\n",
    "  \n",
    "fig = plt.figure(figsize = (10, 5))\n",
    " \n",
    "# creating the bar plot\n",
    "plt.bar(courses, values, color ='green',\n",
    "        width = 0.4)\n",
    " \n",
    "plt.xlabel(\"Stats\")\n",
    "plt.ylabel(\"No of Count\")\n",
    "plt.title(\"Analys the like\")\n",
    "plt.show()"
   ]
  },
  {
   "cell_type": "code",
   "execution_count": 21,
   "id": "4f5070e5",
   "metadata": {},
   "outputs": [
    {
     "data": {
      "text/plain": [
       "<AxesSubplot:xlabel='lab'>"
      ]
     },
     "execution_count": 21,
     "metadata": {},
     "output_type": "execute_result"
    }
   ],
   "source": [
    "ax"
   ]
  },
  {
   "cell_type": "code",
   "execution_count": 18,
   "id": "475c525d",
   "metadata": {},
   "outputs": [
    {
     "name": "stdout",
     "output_type": "stream",
     "text": [
      "602804\n"
     ]
    }
   ],
   "source": [
    "follwers_count=sum(data['Followers'])\n",
    "print(follwers_count)"
   ]
  },
  {
   "cell_type": "code",
   "execution_count": 24,
   "id": "c18e87fd",
   "metadata": {},
   "outputs": [
    {
     "data": {
      "image/png": "[encoded data removed]",
      "text/plain": [
       "<Figure size 720x360 with 1 Axes>"
      ]
     },
     "metadata": {
      "needs_background": "light"
     },
     "output_type": "display_data"
    }
   ],
   "source": [
    "data = {'views_count':4126000, 'follwers_count':602804\n",
    "        }\n",
    "courses = list(data.keys())\n",
    "values = list(data.values())\n",
    "  \n",
    "fig = plt.figure(figsize = (10, 5))\n",
    " \n",
    "# creating the bar plot\n",
    "plt.bar(courses, values, color ='blue',\n",
    "        width = 0.4)\n",
    " \n",
    "plt.xlabel(\"Stats\")\n",
    "plt.ylabel(\"No of Count\")\n",
    "plt.title(\"Analys the like\")\n",
    "plt.show()"
   ]
  },
  {
   "cell_type": "code",
   "execution_count": 5,
   "id": "29035cdb",
   "metadata": {},
   "outputs": [
    {
     "name": "stdout",
     "output_type": "stream",
     "text": [
      "hi hello\n"
     ]
    }
   ],
   "source": [
    "import souvik\n",
    "\n",
    "souvik.greet()"
   ]
  },
  {
   "cell_type": "code",
   "execution_count": null,
   "id": "71d7816b",
   "metadata": {},
   "outputs": [],
   "source": []
  }
 ],
 "metadata": {
  "kernelspec": {
   "display_name": "Python 3 (ipykernel)",
   "language": "python",
   "name": "python3"
  },
  "language_info": {
   "codemirror_mode": {
    "name": "ipython",
    "version": 3
   },
   "file_extension": ".py",
   "mimetype": "text/x-python",
   "name": "python",
   "nbconvert_exporter": "python",
   "pygments_lexer": "ipython3",
   "version": "3.9.7"
  }
 },
 "nbformat": 4,
 "nbformat_minor": 5
}
